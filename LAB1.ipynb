{
  "nbformat": 4,
  "nbformat_minor": 0,
  "metadata": {
    "colab": {
      "provenance": [],
      "toc_visible": true,
      "authorship_tag": "ABX9TyNcfgCWdkv68tVka3dWex6y",
      "include_colab_link": true
    },
    "kernelspec": {
      "name": "python3",
      "display_name": "Python 3"
    },
    "language_info": {
      "name": "python"
    }
  },
  "cells": [
    {
      "cell_type": "markdown",
      "metadata": {
        "id": "view-in-github",
        "colab_type": "text"
      },
      "source": [
        "<a href=\"https://colab.research.google.com/github/saisumedha/FMML-PROJECTS_AND_LABS/blob/main/LAB1.ipynb\" target=\"_parent\"><img src=\"https://colab.research.google.com/assets/colab-badge.svg\" alt=\"Open In Colab\"/></a>"
      ]
    },
    {
      "cell_type": "markdown",
      "source": [
        "**`Section 1 - Python : Basic data types and indexing.`**"
      ],
      "metadata": {
        "id": "_QfvoZWChiWT"
      }
    },
    {
      "cell_type": "markdown",
      "source": [
        "QUESTION 0"
      ],
      "metadata": {
        "id": "d6P2mtKM7Qmj"
      }
    },
    {
      "cell_type": "code",
      "source": [
        "# list datatype\n",
        "#append()\n",
        "List = []\n",
        "List.append('sa')\n",
        "List.append(3)\n",
        "List.append('2.3')\n",
        "print(List)"
      ],
      "metadata": {
        "colab": {
          "base_uri": "https://localhost:8080/"
        },
        "id": "kkqO4fJT7U-7",
        "outputId": "d327abb9-8a9b-4c38-fb6f-cce60d5c49ba"
      },
      "execution_count": 6,
      "outputs": [
        {
          "output_type": "stream",
          "name": "stdout",
          "text": [
            "['sa', 3, '2.3']\n"
          ]
        }
      ]
    },
    {
      "cell_type": "code",
      "source": [
        "#extend()\n",
        "List1 = ['books',54,'s']\n",
        "List2 = ['1.2','my hobby']\n",
        "List1.extend(List2)\n",
        "print(List1)"
      ],
      "metadata": {
        "colab": {
          "base_uri": "https://localhost:8080/"
        },
        "id": "jiFF0KyP8cob",
        "outputId": "8bc02d43-f945-41d7-9f4a-65e08342eeec"
      },
      "execution_count": 7,
      "outputs": [
        {
          "output_type": "stream",
          "name": "stdout",
          "text": [
            "['books', 54, 's', '1.2', 'my hobby']\n"
          ]
        }
      ]
    },
    {
      "cell_type": "code",
      "source": [
        "#reverse()\n",
        "List = ['you','see','I']\n",
        "List.reverse()\n",
        "print(List)"
      ],
      "metadata": {
        "colab": {
          "base_uri": "https://localhost:8080/"
        },
        "id": "lgOT8Vp-9G0c",
        "outputId": "7b1f4728-c867-4d9c-c17c-67efe32b3eca"
      },
      "execution_count": 8,
      "outputs": [
        {
          "output_type": "stream",
          "name": "stdout",
          "text": [
            "['I', 'see', 'you']\n"
          ]
        }
      ]
    },
    {
      "cell_type": "code",
      "source": [
        "#string\n",
        "#upper\n",
        "string = \"how do you do\"\n",
        "uppercase_string = string.upper()\n",
        "print(uppercase_string)"
      ],
      "metadata": {
        "colab": {
          "base_uri": "https://localhost:8080/"
        },
        "id": "Z0vtC9389gN5",
        "outputId": "48eb1730-d533-4b9d-f36f-25fae2ab5948"
      },
      "execution_count": 10,
      "outputs": [
        {
          "output_type": "stream",
          "name": "stdout",
          "text": [
            "HOW DO YOU DO\n"
          ]
        }
      ]
    },
    {
      "cell_type": "code",
      "source": [
        "#lower\n",
        "string = \"how do you do\"\n",
        "lowercase_string = string.lower()\n",
        "print(lowercase_string)"
      ],
      "metadata": {
        "colab": {
          "base_uri": "https://localhost:8080/"
        },
        "id": "mNm8uezJ-iXr",
        "outputId": "43e38315-9839-4b2f-ef19-e636116f8595"
      },
      "execution_count": 11,
      "outputs": [
        {
          "output_type": "stream",
          "name": "stdout",
          "text": [
            "how do you do\n"
          ]
        }
      ]
    },
    {
      "cell_type": "code",
      "source": [
        "#split\n",
        "string = \"roses,berries,cakes\"\n",
        "splited_list = string.split(',')\n",
        "print(splited_list)"
      ],
      "metadata": {
        "colab": {
          "base_uri": "https://localhost:8080/"
        },
        "id": "zSJLvnUd-uLW",
        "outputId": "ab93bc3e-fbda-491d-e372-aea845d67cce"
      },
      "execution_count": 13,
      "outputs": [
        {
          "output_type": "stream",
          "name": "stdout",
          "text": [
            "['roses', 'berries', 'cakes']\n"
          ]
        }
      ]
    },
    {
      "cell_type": "code",
      "source": [
        "#sets\n",
        "#add\n",
        "Set = set()\n",
        "Set.add(45)\n",
        "Set.add(0)\n",
        "Set.add(9)\n",
        "print(Set)"
      ],
      "metadata": {
        "colab": {
          "base_uri": "https://localhost:8080/"
        },
        "id": "ZSq0SEG-_fcS",
        "outputId": "ef439150-a46e-45e7-e464-c00a9bef3b30"
      },
      "execution_count": 16,
      "outputs": [
        {
          "output_type": "stream",
          "name": "stdout",
          "text": [
            "{0, 9, 45}\n"
          ]
        }
      ]
    },
    {
      "cell_type": "code",
      "source": [
        "# update\n",
        "set1 = {1, 2, 3}\n",
        "set2 = {3, 4, 5}\n",
        "set1.update(set2)\n",
        "print(set1)"
      ],
      "metadata": {
        "colab": {
          "base_uri": "https://localhost:8080/"
        },
        "id": "DCCRV4osAsUj",
        "outputId": "3946c775-e2bd-48c5-d200-538897810e89"
      },
      "execution_count": 17,
      "outputs": [
        {
          "output_type": "stream",
          "name": "stdout",
          "text": [
            "{1, 2, 3, 4, 5}\n"
          ]
        }
      ]
    },
    {
      "cell_type": "code",
      "source": [
        "#remove\n",
        "set = {23,45,45,12}\n",
        "set.remove(45)\n",
        "print(set)"
      ],
      "metadata": {
        "colab": {
          "base_uri": "https://localhost:8080/"
        },
        "id": "5UoXEdJNA54A",
        "outputId": "1a5c6090-2392-4b9c-8186-0b58408a8a18"
      },
      "execution_count": 18,
      "outputs": [
        {
          "output_type": "stream",
          "name": "stdout",
          "text": [
            "{12, 23}\n"
          ]
        }
      ]
    },
    {
      "cell_type": "markdown",
      "source": [
        "QUESTION 1"
      ],
      "metadata": {
        "id": "-4e2uQugBSXg"
      }
    },
    {
      "cell_type": "code",
      "source": [
        "def reverse_and_append(A, B):\n",
        "    reversed_A = A[::-1] # Reverse the first string A using slicing\n",
        "    result = B + reversed_A\n",
        "    return result\n",
        "\n",
        "string_A = \"Hello\"\n",
        "string_B = \"World\"\n",
        "final_string = reverse_and_append(string_A, string_B)\n",
        "print(final_string)\n"
      ],
      "metadata": {
        "colab": {
          "base_uri": "https://localhost:8080/"
        },
        "id": "4Exj-z9cBaLa",
        "outputId": "e0e88d8f-9477-45e0-b0ac-5589335be4fd"
      },
      "execution_count": 19,
      "outputs": [
        {
          "output_type": "stream",
          "name": "stdout",
          "text": [
            "WorldolleH\n"
          ]
        }
      ]
    },
    {
      "cell_type": "markdown",
      "source": [
        "QUESTION 2"
      ],
      "metadata": {
        "id": "4UQzuZ8EC1sZ"
      }
    },
    {
      "cell_type": "code",
      "source": [
        "def find_highest_female_worker(work_hours):\n",
        "    max_hours = 0\n",
        "    female_name = ''\n",
        "\n",
        "    for name, hours, gender in work_hours:\n",
        "        if gender == 'F' and hours > max_hours:\n",
        "            max_hours = hours\n",
        "            female_name = name\n",
        "    if female_name:\n",
        "        female_pay = max_hours * 20\n",
        "        print(f\"female worker who worked the most hours is {female_name}\")\n",
        "        print(f\"She should be paid ${female_pay}\")\n",
        "    else:\n",
        "        print(\"No female workers found in the list.\")\n",
        "work_hours = [('Abby', 100, 'F'), ('Billy', 400, 'M'), ('Cassie', 800, 'F'), ('Maggi', 600, 'F'),\n",
        "              ('Alex', 500, 'M'), ('Raj', 225, 'M'), ('Penny', 920, 'F'), ('Ben', 300, 'M')]\n",
        "find_highest_female_worker(work_hours)"
      ],
      "metadata": {
        "colab": {
          "base_uri": "https://localhost:8080/"
        },
        "id": "linyM5D8C5Tv",
        "outputId": "6f00fc97-728b-468c-d54a-5b483d3f886b"
      },
      "execution_count": 21,
      "outputs": [
        {
          "output_type": "stream",
          "name": "stdout",
          "text": [
            "female worker who worked the most hours is Penny\n",
            "She should be paid $18400\n"
          ]
        }
      ]
    },
    {
      "cell_type": "markdown",
      "source": [
        "QUESTION 3"
      ],
      "metadata": {
        "id": "qrBNHWBeEPzZ"
      }
    },
    {
      "cell_type": "code",
      "source": [
        "import numpy as np\n",
        "A = np.array([[1,1,1,1,1],[2,2,2,2,2]])\n",
        "B = np.array([[3,3,3,3,3],[4,4,4,4,4],[5,5,5,5,5]])\n",
        "C = np.vstack((A,B))\n",
        "print(C)"
      ],
      "metadata": {
        "colab": {
          "base_uri": "https://localhost:8080/"
        },
        "id": "gJCl1dOaJJyu",
        "outputId": "0933d1df-ad14-4a65-e7a9-dacc34bcbd08"
      },
      "execution_count": 29,
      "outputs": [
        {
          "output_type": "stream",
          "name": "stdout",
          "text": [
            "[[1 1 1 1 1]\n",
            " [2 2 2 2 2]\n",
            " [3 3 3 3 3]\n",
            " [4 4 4 4 4]\n",
            " [5 5 5 5 5]]\n"
          ]
        }
      ]
    },
    {
      "cell_type": "code",
      "source": [
        "other_matrix = np.random.randint(1, 10, (5, 5))\n",
        "# Finding the dot product\n",
        "dot_product_result = np.dot(C, other_matrix)\n",
        "print(\"\\nDot Product Matrix:\")\n",
        "print(dot_product_result)"
      ],
      "metadata": {
        "colab": {
          "base_uri": "https://localhost:8080/"
        },
        "id": "4vIn6CVOKPHi",
        "outputId": "7a3a7fbf-7b56-4985-e6db-242bfc88d58a"
      },
      "execution_count": 30,
      "outputs": [
        {
          "output_type": "stream",
          "name": "stdout",
          "text": [
            "\n",
            "Dot Product Matrix:\n",
            "[[ 24  20  27  29  26]\n",
            " [ 48  40  54  58  52]\n",
            " [ 72  60  81  87  78]\n",
            " [ 96  80 108 116 104]\n",
            " [120 100 135 145 130]]\n"
          ]
        }
      ]
    }
  ]
}